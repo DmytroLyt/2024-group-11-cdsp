{
 "cells": [
  {
   "cell_type": "code",
   "execution_count": null,
   "metadata": {},
   "outputs": [],
   "source": [
    "import pandas as pd\n",
    "import numpy as np\n",
    "import matplotlib.pyplot as plt\n",
    "from statsmodels.tsa.arima.model import ARIMA\n",
    "from sklearn.metrics import mean_squared_error\n",
    "\n",
    "# Load data and prepare it as a time series\n",
    "# data = pd.read_csv('file.csv')\n",
    "# time_series = data['total_estimate_tonnes/year']\n",
    "\n",
    "# Example of generating and preparing synthetic data\n",
    "np.random.seed(42)\n",
    "time_series = np.cumsum(np.random.normal(size=100))\n",
    "\n",
    "# Split data into training and testing sets\n",
    "train_size = int(len(time_series) * 0.8)\n",
    "train, test = time_series[:train_size], time_series[train_size:]\n",
    "\n",
    "# Build the ARIMA model\n",
    "model = ARIMA(train, order=(1, 1, 1))  # Choose ARIMA parameters\n",
    "model_fit = model.fit()\n",
    "\n",
    "# Forecast on the test set\n",
    "predictions = model_fit.predict(start=len(train), end=len(train) + len(test) - 1, typ='levels')\n",
    "\n",
    "# Evaluate the model using Mean Squared Error (MSE)\n",
    "mse = mean_squared_error(test, predictions)\n",
    "print(f'Mean Squared Error: {mse}')\n",
    "\n",
    "# Visualization of the results\n",
    "plt.plot(time_series, label='Actual')\n",
    "plt.plot(np.concatenate([train, predictions]), label='Predicted')\n",
    "plt.legend()\n",
    "plt.title('ARIMA Forecasting')\n",
    "plt.show()\n"
   ]
  }
 ],
 "metadata": {
  "language_info": {
   "name": "python"
  }
 },
 "nbformat": 4,
 "nbformat_minor": 2
}
